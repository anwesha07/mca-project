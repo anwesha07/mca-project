{
 "cells": [
  {
   "cell_type": "code",
   "execution_count": 1,
   "id": "5cac46ba",
   "metadata": {},
   "outputs": [],
   "source": [
    "import numpy \n",
    "import random\n",
    "import math\n",
    "import time\n",
    "import matplotlib.pyplot as plt"
   ]
  },
  {
   "cell_type": "code",
   "execution_count": 2,
   "id": "70f3b16e",
   "metadata": {},
   "outputs": [],
   "source": [
    "def calculate_mass(fit, min_flag):\n",
    "    f_max, f_min = max(fit), min(fit)\n",
    "    N = len(fit)\n",
    "        \n",
    "    if f_max == f_min:\n",
    "        M = numpy.ones(N)\n",
    "    \n",
    "    else:\n",
    "        if min_flag:\n",
    "            best, worst = f_min, f_max  # Eq 17-18\n",
    "        else:\n",
    "            best, worst = f_max, f_min  # Eq 19-20\n",
    "        \n",
    "        M = (fit - worst) / (best - worst)  # Eq 15\n",
    "\n",
    "    M_sum = sum(M)\n",
    "    M /= M_sum  # Eq 16\n",
    "\n",
    "    return M"
   ]
  },
  {
   "cell_type": "code",
   "execution_count": 3,
   "id": "3ca2de32",
   "metadata": {},
   "outputs": [],
   "source": [
    "def calculate_G(t, T):\n",
    "    G0, alpha = 100, 20\n",
    "    G = G0 * numpy.exp(-alpha * t / T)  # Eq 28\n",
    "    return G"
   ]
  },
  {
   "cell_type": "code",
   "execution_count": 4,
   "id": "20691baa",
   "metadata": {},
   "outputs": [],
   "source": [
    "def calculate_G_field(X, M, G, t, T, Elitist_Check, R_power):\n",
    "    (N, d) = X.shape\n",
    "    \n",
    "    # In the last iteration, only 2 percent of agents apply force to the others\n",
    "    final_per = 2\n",
    "\n",
    "    if Elitist_Check == 1:\n",
    "        k_best = final_per + (1 - t / T) * (100 - final_per)\n",
    "        k_best = int(round(N * k_best / 100))\n",
    "    else:\n",
    "        k_best = N\n",
    "\n",
    "    ds = sorted(range(N), key=lambda k: M[k], reverse=True)\n",
    "\n",
    "    E = numpy.zeros((N, d))\n",
    "\n",
    "    for i in range(N):\n",
    "        for ii in range(k_best):\n",
    "            j = ds[ii]\n",
    "            if i != j:\n",
    "                # Euclidian distance\n",
    "                R = numpy.linalg.norm(X[j,:] - X[i,:])\n",
    "\n",
    "                rand = numpy.random.uniform()\n",
    "                # Note that Mp(i) / Mi(i) = 1\n",
    "                E[i] += rand * M[j] * (X[j] - X[i]) / (R ** R_power + numpy.finfo(float).eps)\n",
    "\n",
    "    a = E * G\n",
    "    return a"
   ]
  },
  {
   "cell_type": "code",
   "execution_count": 5,
   "id": "f9310859",
   "metadata": {},
   "outputs": [],
   "source": [
    "def move(X, v, a):\n",
    "    N, dim = X.shape\n",
    "    rand = numpy.random.uniform(0, 1, (N, dim))\n",
    "    v = rand * v + a  # Eq 11\n",
    "    X = X = v  # Eq 12\n",
    "\n",
    "    return X, v"
   ]
  },
  {
   "cell_type": "code",
   "execution_count": 6,
   "id": "ca229da6",
   "metadata": {},
   "outputs": [],
   "source": [
    "def space_bound(X, lb, ub):\n",
    "    N, dim = X.shape\n",
    "    for i in range(N):\n",
    "        # agents that go out of the search space are reinitialized randomly\n",
    "        Tp = X[i,:] > ub\n",
    "        Tm = X[i,:] < lb\n",
    "        X[i,:] = (X[i,:] * (~(Tp+Tm))) + ((numpy.random.rand(1, dim) * (ub-lb) + lb) * (Tp+Tm))\n",
    "        \n",
    "        # agents that go out of the search space are returned to the boundaries\n",
    "        # Tp = X[i,:] > up\n",
    "        # Tm = X[i,:] < low\n",
    "        # X[i,:] = (X[i,:] * (~(Tp+Tm))) + (up * Tp) + (low * Tm)\n",
    "        \n",
    "    return X"
   ]
  },
  {
   "cell_type": "code",
   "execution_count": 7,
   "id": "dfbb6bda",
   "metadata": {},
   "outputs": [],
   "source": [
    "class Solution:\n",
    "    def __init__(self):\n",
    "        self.optimizer = \"\"\n",
    "        self.obj_fname = \"\"\n",
    "        \n",
    "        self.start_time = 0\n",
    "        self.end_time = 0\n",
    "        self.execution_time = 0\n",
    "\n",
    "        self.lb = 0\n",
    "        self.ub = 0\n",
    "        self.dim = 0\n",
    "        self.pop_num = 0\n",
    "        self.max_iters = 0\n",
    "\n",
    "        self.best_score = 0\n",
    "        self.best_individual = numpy.array([])\n",
    "        self.best_so_far = numpy.array([])"
   ]
  },
  {
   "cell_type": "code",
   "execution_count": 8,
   "id": "30cca3da",
   "metadata": {},
   "outputs": [],
   "source": [
    "def F1(x):\n",
    "    return numpy.sum(x**2)\n",
    "\n",
    "def F2(x):\n",
    "    return numpy.sum(abs(x)) + numpy.prod(abs(x))\n",
    "\n",
    "def get_fn_details(fn):\n",
    "    \"\"\" [function, min_flag, lb, ub, dim] \"\"\"\n",
    "    param = {\n",
    "        \"F1\": [F1, True, -100, 100, 30],\n",
    "        \"F2\": [F2, True, -10, 10, 30],\n",
    "    }\n",
    "    return param.get(fn, \"nothing\")"
   ]
  },
  {
   "cell_type": "code",
   "execution_count": 9,
   "id": "6714ec35",
   "metadata": {},
   "outputs": [],
   "source": [
    "def GSA(fn_name, N, max_it):\n",
    "    # GSA parameters\n",
    "    Elitist_Check = 1\n",
    "    R_power = 1\n",
    "    \n",
    "    [obj_fn, min_flag, lb, ub, d] = get_fn_details(fn_name)\n",
    "\n",
    "    s = Solution()\n",
    "\n",
    "    timer_start = time.time()\n",
    "    print(f\"GSA is optimizing \\\"{obj_fn.__name__}\\\"\")\n",
    "\n",
    "    s.optimizer = \"GSA\"\n",
    "    s.obj_fname = obj_fn.__name__\n",
    "    s.start_time = time.strftime(\"%Y-%m-%d-%H-%M-%S\")\n",
    "    s.lb = lb\n",
    "    s.ub = ub\n",
    "    s.dim = d\n",
    "    s.pop_num = N\n",
    "    s.max_iters = max_it\n",
    "\n",
    "    s.best_so_far = numpy.zeros(max_it)\n",
    "\n",
    "    \"\"\" 1. Generate Initial Population \"\"\"\n",
    "    # Initial position of all agents\n",
    "    X = numpy.random.uniform(0, 1, (N, d)) * (ub - lb) + lb\n",
    "\n",
    "    # Initial velocity of all agents\n",
    "    v = numpy.zeros((N, d))\n",
    "\n",
    "    # Initial fitness value and mass of all agents\n",
    "    fit = numpy.zeros(N)\n",
    "    M = numpy.zeros(N)\n",
    "    \n",
    "    for t in range(max_it):\n",
    "        # Checking that all agents are within allowable range\n",
    "        X = space_bound(X, lb, ub)\n",
    "\n",
    "        \"\"\" 2.  Evaluate the fitness for each agent \"\"\"\n",
    "        for i in range(N):\n",
    "            fit[i] = obj_fn(X[i])\n",
    "\n",
    "        \"\"\" 3. Update the value of \"G\" \"\"\"        \n",
    "        G = calculate_G(t, max_it)\n",
    "\n",
    "        \"\"\" 4. Calculate \"M\" and \"a\" for each agent \"\"\"\n",
    "        M = calculate_mass(fit, min_flag)\n",
    "        a = calculate_G_field(X, M, G, t, max_it, Elitist_Check, R_power)\n",
    "\n",
    "        \"\"\" 5. Update velocity and position \"\"\"\n",
    "        X, v = move(X, v, a)\n",
    "\n",
    "        # Add the best fitness score of the ith iteration to the \"best_so_far\" array\n",
    "        s.best_so_far[t] = max(fit)\n",
    "    \n",
    "    \n",
    "    # Keep track of the agent with the best fitness score\n",
    "    best_agent = numpy.argmax(fit)\n",
    "    s.best_individual = X[best_agent]\n",
    "    s.best_score = fit[best_agent]\n",
    "    \n",
    "    timer_end = time.time()\n",
    "\n",
    "    s.endTime = time.strftime(\"%Y-%m-%d-%H-%M-%S\")\n",
    "    s.execution_time = timer_end - timer_start\n",
    "\n",
    "    return s"
   ]
  },
  {
   "cell_type": "code",
   "execution_count": 10,
   "id": "75867554",
   "metadata": {},
   "outputs": [
    {
     "name": "stdout",
     "output_type": "stream",
     "text": [
      "GSA is optimizing \"F1\"\n",
      "Average best-so-far: 3.2079323177253136e-17\n"
     ]
    }
   ],
   "source": [
    "runs = 1\n",
    "\n",
    "N = 50\n",
    "max_it = 1000\n",
    "fn_name = \"F1\"\n",
    "\n",
    "best_across_runs = []\n",
    "\n",
    "for k in range (0, runs):\n",
    "    x = GSA(fn_name, N, max_it)\n",
    "    best_across_runs.append(x.best_so_far)\n",
    "    print(f\"Average best-so-far: {x.best_score}\")"
   ]
  },
  {
   "cell_type": "code",
   "execution_count": 13,
   "id": "22596223",
   "metadata": {},
   "outputs": [
    {
     "data": {
      "image/png": "[encoded data removed]",
      "text/plain": [
       "<Figure size 640x480 with 1 Axes>"
      ]
     },
     "metadata": {},
     "output_type": "display_data"
    }
   ],
   "source": [
    "best_across_runs = numpy.array(best_across_runs)\n",
    "\n",
    "# best_chart contains the best score for all iterations averaged across all runs\n",
    "best_chart = []\n",
    "for i in range(max_it):\n",
    "    avg_best = sum(best_across_runs[:,i]) / len(best_across_runs[:,i])\n",
    "    best_chart.append(avg_best)\n",
    "\n",
    "# Plotting the convergence graph\n",
    "plt.semilogy(best_chart, \"-k\")\n",
    "plt.title(fn_name)\n",
    "plt.xlabel('Iteration')\n",
    "plt.ylabel('Average best-so-far')\n",
    "plt.legend(['GSA'])\n",
    "plt.show()"
   ]
  },
  {
   "cell_type": "code",
   "execution_count": null,
   "id": "84531a31",
   "metadata": {},
   "outputs": [],
   "source": []
  }
 ],
 "metadata": {
  "kernelspec": {
   "display_name": "Python 3 (ipykernel)",
   "language": "python",
   "name": "python3"
  },
  "language_info": {
   "codemirror_mode": {
    "name": "ipython",
    "version": 3
   },
   "file_extension": ".py",
   "mimetype": "text/x-python",
   "name": "python",
   "nbconvert_exporter": "python",
   "pygments_lexer": "ipython3",
   "version": "3.8.9"
  }
 },
 "nbformat": 4,
 "nbformat_minor": 5
}
